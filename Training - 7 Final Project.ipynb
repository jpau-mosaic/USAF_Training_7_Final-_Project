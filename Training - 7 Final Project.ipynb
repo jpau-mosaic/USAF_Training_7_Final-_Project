{
 "cells": [
  {
   "cell_type": "raw",
   "metadata": {},
   "source": [
    "**Note** \n",
    "\n",
    "Closing this notebook will not save the notebook. Please download it in order to save it. To continue from a saved notebook, you can upload your downloaded notebook continue in your progress. "
   ]
  },
  {
   "cell_type": "markdown",
   "metadata": {},
   "source": [
    "# Introduction"
   ]
  },
  {
   "cell_type": "markdown",
   "metadata": {},
   "source": [
    "In this last notebook, we want to give you space to put the skills that you've learned into practice. Think about some additional analysis questions that you could answer with the available data. Use the analyses that we've done so far for inspiration.\n",
    "\n",
    "You can start with any of the datasets that were provided. They are all in the 'data' folder. Any of the previous notebooks can also be accessed in the 'code' folder. Use code from those notebooks as a template - copy, paste, and modify to your analysis needs. This is what professional data scientists do - we borrow and reuse code that we've written ourselves, that colleagues have share, or that is available online. If you run into any problems, take a look at the official Python, Pandas, or Matplotlib documentation. You can also search [Stack Overflow](www.stackoverflow.com) - one of the great things about popular open source tools like Python is that there is a huge community of users ready to support. Feel free also to ask the help of your classmates and instructors.\n",
    "\n",
    "If you find something of interest, we'll give you a chance to share your analysis with the rest of the group.\n",
    "\n",
    "Happy coding!"
   ]
  },
  {
   "cell_type": "markdown",
   "metadata": {},
   "source": [
    "# Working Space"
   ]
  },
  {
   "cell_type": "code",
   "execution_count": null,
   "metadata": {},
   "outputs": [],
   "source": []
  }
 ],
 "metadata": {
  "hide_input": false,
  "kernelspec": {
   "display_name": "Python 3",
   "language": "python",
   "name": "python3"
  },
  "language_info": {
   "codemirror_mode": {
    "name": "ipython",
    "version": 3
   },
   "file_extension": ".py",
   "mimetype": "text/x-python",
   "name": "python",
   "nbconvert_exporter": "python",
   "pygments_lexer": "ipython3",
   "version": "3.7.4"
  }
 },
 "nbformat": 4,
 "nbformat_minor": 4
}
